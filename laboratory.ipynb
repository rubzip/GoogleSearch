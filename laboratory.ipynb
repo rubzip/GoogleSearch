{
 "cells": [
  {
   "cell_type": "code",
   "execution_count": 19,
   "id": "1def7ae4",
   "metadata": {},
   "outputs": [],
   "source": [
    "from bs4 import BeautifulSoup as bs\n",
    "import requests\n",
    "import re\n",
    "\n",
    "def get_main_url(url):\n",
    "    pattern = r\"(?:https\\:\\/\\/)?(?:www\\.)?([\\w\\-]+\\.\\w+)\"\n",
    "    match = re.search(pattern, url)\n",
    "    if match is not None:\n",
    "        return match.group(1)\n",
    "    else:\n",
    "        return None\n",
    "\n",
    "class EmailScrapper:\n",
    "    def __init__(self, original_url):\n",
    "        self.original_url = original_url\n",
    "        self.main_url = get_main_url(original_url)\n",
    "        self.visited_urls = set()\n",
    "        self.all_urls = set()\n",
    "        self.all_emails = set()\n",
    "        self.max_depth = 20\n",
    "\n",
    "    def get_all_links(self, soup):\n",
    "        try:\n",
    "            for tag in soup.find_all():\n",
    "                if tag.has_attr(\"href\"):\n",
    "                    url = tag.get(\"href\")\n",
    "                    if (get_main_url(url)==self.main_url) and (url not in self.visited_urls):\n",
    "                        self.all_urls.add(url)\n",
    "        except Exception as ex:\n",
    "            print(ex)\n",
    "    \n",
    "    def get_all_emails(self, soup):\n",
    "        pattern = r\"([\\w\\-\\.]+\\@(?:[\\w\\-]+\\.)+[\\w\\-]{2,4})\"\n",
    "        content = str(soup.body)\n",
    "        for email in re.findall(pattern, content):\n",
    "            self.all_emails.add(email)\n",
    "    \n",
    "    def get_content(self, url):\n",
    "        try:\n",
    "            request = requests.get(url)\n",
    "            soup = bs(request.text, features=\"html.parser\")\n",
    "            return soup\n",
    "        except Exception as ex:\n",
    "            print(ex)\n",
    "\n",
    "    def run(self):\n",
    "        soup = self.get_content(self.original_url)\n",
    "        self.get_all_emails(soup)\n",
    "        self.get_all_links(soup)\n",
    "        i = 0\n",
    "        while (len(self.all_urls) > 0) and (i < self.max_depth):\n",
    "            i += 1\n",
    "            url = self.all_urls.pop()\n",
    "            soup = self.get_content(url)\n",
    "            self.get_all_emails(soup)\n",
    "            self.get_all_links(soup)            \n",
    "            self.visited_urls.add(url)"
   ]
  },
  {
   "cell_type": "code",
   "execution_count": 20,
   "id": "e12a3099",
   "metadata": {},
   "outputs": [],
   "source": [
    "email = EmailScrapper(\"https://www.12pinguinos.com/newweb/en/home/\")"
   ]
  },
  {
   "cell_type": "code",
   "execution_count": 21,
   "id": "731149d8",
   "metadata": {},
   "outputs": [
    {
     "name": "stderr",
     "output_type": "stream",
     "text": [
      "C:\\Users\\ruben\\anaconda3\\lib\\site-packages\\bs4\\builder\\__init__.py:545: XMLParsedAsHTMLWarning: It looks like you're parsing an XML document using an HTML parser. If this really is an HTML document (maybe it's XHTML?), you can ignore or filter this warning. If it's XML, you should know that using an XML parser will be more reliable. To parse this document as XML, make sure you have the lxml package installed, and pass the keyword argument `features=\"xml\"` into the BeautifulSoup constructor.\n",
      "  warnings.warn(\n"
     ]
    }
   ],
   "source": [
    "email.run()"
   ]
  },
  {
   "cell_type": "code",
   "execution_count": 31,
   "id": "5dfcd013",
   "metadata": {},
   "outputs": [
    {
     "data": {
      "text/plain": [
       "100"
      ]
     },
     "execution_count": 31,
     "metadata": {},
     "output_type": "execute_result"
    }
   ],
   "source": [
    "len(email.all_urls)"
   ]
  },
  {
   "cell_type": "code",
   "execution_count": 5,
   "id": "8809dafd",
   "metadata": {},
   "outputs": [],
   "source": [
    "def get_main_url(url):\n",
    "    pattern = r\"(?:https\\:\\/\\/)?(?:www\\.)?([\\w\\-]+\\.\\w+)\"\n",
    "    match = re.search(pattern, url)\n",
    "    if match is not None:\n",
    "        return match.group(1)\n",
    "    else:\n",
    "        return None"
   ]
  },
  {
   "cell_type": "code",
   "execution_count": 6,
   "id": "c88ca1c4",
   "metadata": {},
   "outputs": [],
   "source": [
    "original_url = \"https://www.12pinguinos.com/newweb/en/home/\"\n",
    "main_url = get_main_url(original_url)\n",
    "visited_urls = set()\n",
    "all_urls = set()\n",
    "all_emails = set()\n",
    "max_depth = 20"
   ]
  },
  {
   "cell_type": "code",
   "execution_count": 13,
   "id": "bcf755bb",
   "metadata": {},
   "outputs": [],
   "source": [
    "def get_all_links(soup):\n",
    "    try:\n",
    "        for h in soup.find_all('a'):\n",
    "            for url in h.get('href'):\n",
    "                if (get_main_url(url) in main_url) and (url not in visited_urls):\n",
    "                    all_urls.add(url)\n",
    "    except Exception as ex:\n",
    "        print(ex)\n",
    "    \n",
    "def get_all_emails(soup):\n",
    "    pattern = r\"([\\w\\-\\.]+\\@(?:[\\w\\-]+\\.)+[\\w\\-]{2,4})\"\n",
    "    content = str(soup.body)\n",
    "    for email in re.findall(pattern, content):\n",
    "        all_emails.add(email)"
   ]
  },
  {
   "cell_type": "code",
   "execution_count": 14,
   "id": "a780048e",
   "metadata": {},
   "outputs": [
    {
     "name": "stdout",
     "output_type": "stream",
     "text": [
      "'in <string>' requires string as left operand, not NoneType\n"
     ]
    }
   ],
   "source": [
    "request = requests.get(original_url)\n",
    "soup = bs(request.text, features=\"html.parser\")\n",
    "get_all_emails(soup)\n",
    "get_all_links(soup)\n",
    "i = 0"
   ]
  },
  {
   "cell_type": "code",
   "execution_count": 30,
   "id": "a6b21686",
   "metadata": {},
   "outputs": [
    {
     "name": "stdout",
     "output_type": "stream",
     "text": [
      "https://gmpg.org/xfn/11 <class 'str'>\n",
      "//s.w.org <class 'str'>\n",
      "https://www.12pinguinos.com/newweb/en/feed/ <class 'str'>\n",
      "https://www.12pinguinos.com/newweb/en/comments/feed/ <class 'str'>\n",
      "https://www.12pinguinos.com/newweb/wp-content/plugins/column-shortcodes//assets/css/shortcodes.css?ver=1.0.1 <class 'str'>\n",
      "https://www.12pinguinos.com/newweb/wp-content/themes/twentyseventeen/assets/fonts/font-libre-franklin.css?ver=20230328 <class 'str'>\n",
      "https://www.12pinguinos.com/newweb/wp-content/themes/twentyseventeen/style.css?ver=20240116 <class 'str'>\n",
      "https://www.12pinguinos.com/newweb/wp-content/themes/twentyseventeen/assets/css/blocks.css?ver=20220912 <class 'str'>\n",
      "https://www.12pinguinos.com/newweb/wp-content/plugins/youtube-embed-plus/styles/ytprefs.min.css?ver=14.2.1 <class 'str'>\n",
      "https://www.12pinguinos.com/newweb/wp-json/ <class 'str'>\n",
      "https://www.12pinguinos.com/newweb/xmlrpc.php?rsd <class 'str'>\n",
      "https://www.12pinguinos.com/newweb/wp-includes/wlwmanifest.xml <class 'str'>\n",
      "https://www.12pinguinos.com/newweb/en/home/ <class 'str'>\n",
      "https://www.12pinguinos.com/newweb/ <class 'str'>\n",
      "https://www.12pinguinos.com/newweb/wp-json/oembed/1.0/embed?url=https%3A%2F%2Fwww.12pinguinos.com%2Fnewweb%2Fen%2Fhome%2F <class 'str'>\n",
      "https://www.12pinguinos.com/newweb/wp-json/oembed/1.0/embed?url=https%3A%2F%2Fwww.12pinguinos.com%2Fnewweb%2Fen%2Fhome%2F&format=xml <class 'str'>\n",
      "https://www.12pinguinos.com/newweb/es/inicio/ <class 'str'>\n",
      "https://www.12pinguinos.com/newweb/fr/ <class 'str'>\n",
      "https://www.12pinguinos.com/newweb/en/home/ <class 'str'>\n",
      "https://www.12pinguinos.com/newweb/ <class 'str'>\n",
      "https://www.12pinguinos.com/newweb/wp-content/uploads/2017/01/cropped-logo_512-32x32.png <class 'str'>\n",
      "https://www.12pinguinos.com/newweb/wp-content/uploads/2017/01/cropped-logo_512-192x192.png <class 'str'>\n",
      "https://www.12pinguinos.com/newweb/wp-content/uploads/2017/01/cropped-logo_512-180x180.png <class 'str'>\n",
      "#content <class 'str'>\n",
      "https://www.12pinguinos.com/newweb/en/home/ <class 'str'>\n",
      "https://www.12pinguinos.com/newweb/en/home/ <class 'str'>\n",
      "#icon-bars <class 'str'>\n",
      "#icon-close <class 'str'>\n",
      "https://www.12pinguinos.com/newweb/en/home/ <class 'str'>\n",
      "https://www.12pinguinos.com/newweb/en/portfolio_en/ <class 'str'>\n",
      "#icon-angle-down <class 'str'>\n",
      "https://www.12pinguinos.com/newweb/en/2d-traditional/ <class 'str'>\n",
      "https://www.12pinguinos.com/newweb/en/comic_en/ <class 'str'>\n",
      "https://www.12pinguinos.com/newweb/en/cut-out_en/ <class 'str'>\n",
      "https://www.12pinguinos.com/newweb/en/model-sheet/ <class 'str'>\n",
      "https://www.12pinguinos.com/newweb/en/backgrounds/ <class 'str'>\n",
      "https://www.12pinguinos.com/newweb/en/storyboard_en/ <class 'str'>\n",
      "https://www.12pinguinos.com/newweb/es/about-us/ <class 'str'>\n",
      "https://www.12pinguinos.com/newweb/en/contact/ <class 'str'>\n",
      "https://www.12pinguinos.com/newweb/en/blog_en/ <class 'str'>\n",
      "#pll_switcher <class 'str'>\n",
      "#icon-angle-down <class 'str'>\n",
      "https://www.12pinguinos.com/newweb/es/inicio/ <class 'str'>\n",
      "#content <class 'str'>\n",
      "#icon-arrow-right <class 'str'>\n",
      "https://www.12pinguinos.com/newweb/videos/demo-reel-2016/ <class 'str'>\n",
      "https://www.12pinguinos.com/newweb/videos/cubby-house-project-trailer/ <class 'str'>\n",
      "https://www.12pinguinos.com/newweb/videos/master-aydesa-herencia/ <class 'str'>\n",
      "https://www.12pinguinos.com/newweb/videos/pollo/ <class 'str'>\n",
      "http://www.12pinguinos.com/newweb/en/2d-traditional/ <class 'str'>\n",
      "http://www.12pinguinos.com/newweb/en/2d-traditional/ <class 'str'>\n",
      "http://www.12pinguinos.com/newweb/en/cut-out-2/ <class 'str'>\n",
      "http://www.12pinguinos.com/newweb/en/cut-out_en/ <class 'str'>\n",
      "http://www.12pinguinos.com/newweb/en/storyboard/ <class 'str'>\n",
      "http://www.12pinguinos.com/newweb/en/storyboard_en/ <class 'str'>\n",
      "http://www.12pinguinos.com/newweb/en/backgrounds/ <class 'str'>\n",
      "http://www.12pinguinos.com/newweb/en/backgrounds/ <class 'str'>\n",
      "http://www.12pinguinos.com/newweb/en/model-sheet/ <class 'str'>\n",
      "http://www.12pinguinos.com/newweb/en/model-sheet/ <class 'str'>\n",
      "http://www.12pinguinos.com/newweb/en/comic-2/ <class 'str'>\n",
      "http://www.12pinguinos.com/newweb/en/comic_en/ <class 'str'>\n",
      "http://www.gloriafuertes.org <class 'str'>\n",
      "https://www.iwdro.org <class 'str'>\n",
      "http://www.happyjack.es <class 'str'>\n",
      "https://www.12pinguinos.com/newweb/es/aviso-legal/ <class 'str'>\n",
      "https://www.12pinguinos.com/newweb/es/politica-de-privacidad/ <class 'str'>\n",
      "https://www.12pinguinos.com/newweb/es/accesibilidad/ <class 'str'>\n",
      "https://wordpress.org/ <class 'str'>\n",
      "https://www.12pinguinos.com/newweb/wp-content/plugins/youtube-showcase/assets/ext/wpas/wpas.min.css?ver=3.3.6 <class 'str'>\n",
      "https://www.12pinguinos.com/newweb/wp-content/plugins/youtube-showcase/assets/css/emd-pagination.min.css?ver=3.3.6 <class 'str'>\n",
      "https://www.12pinguinos.com/newweb/wp-content/plugins/google-maps/assets/css/frontend.css?ver=4.9.25 <class 'str'>\n",
      "https://www.12pinguinos.com/newweb/wp-content/plugins/google-maps/assets/css/store-locator.css?ver=4.9.25 <class 'str'>\n",
      "https://www.12pinguinos.com/newweb/wp-content/plugins/pirate-forms/public/css/front.css?ver=2.4.4 <class 'str'>\n",
      "https://www.12pinguinos.com/newweb/wp-content/plugins/youtube-showcase//assets/css/allview.css?ver=3.3.6 <class 'str'>\n"
     ]
    }
   ],
   "source": [
    "for tag in soup.find_all():\n",
    "    if tag.has_attr(\"href\"):\n",
    "        url = tag.get(\"href\")\n",
    "        print(url, type(url))\n",
    "        if (get_main_url(url)==main_url) and (url not in visited_urls):\n",
    "            all_urls.add(url)"
   ]
  },
  {
   "cell_type": "code",
   "execution_count": 63,
   "id": "304feb92",
   "metadata": {},
   "outputs": [
    {
     "name": "stdout",
     "output_type": "stream",
     "text": [
      "{2, 3, 4, 5}\n"
     ]
    }
   ],
   "source": [
    "a = {1,2,3,4,5}"
   ]
  },
  {
   "cell_type": "code",
   "execution_count": 77,
   "id": "6ee92182",
   "metadata": {},
   "outputs": [
    {
     "ename": "KeyError",
     "evalue": "'pop from an empty set'",
     "output_type": "error",
     "traceback": [
      "\u001b[1;31m---------------------------------------------------------------------------\u001b[0m",
      "\u001b[1;31mKeyError\u001b[0m                                  Traceback (most recent call last)",
      "\u001b[1;32m~\\AppData\\Local\\Temp\\ipykernel_1136\\3819448126.py\u001b[0m in \u001b[0;36m<module>\u001b[1;34m\u001b[0m\n\u001b[1;32m----> 1\u001b[1;33m \u001b[0ma\u001b[0m\u001b[1;33m.\u001b[0m\u001b[0mpop\u001b[0m\u001b[1;33m(\u001b[0m\u001b[1;33m)\u001b[0m\u001b[1;33m\u001b[0m\u001b[1;33m\u001b[0m\u001b[0m\n\u001b[0m\u001b[0;32m      2\u001b[0m \u001b[0mprint\u001b[0m\u001b[1;33m(\u001b[0m\u001b[0ma\u001b[0m\u001b[1;33m)\u001b[0m\u001b[1;33m\u001b[0m\u001b[1;33m\u001b[0m\u001b[0m\n",
      "\u001b[1;31mKeyError\u001b[0m: 'pop from an empty set'"
     ]
    }
   ],
   "source": [
    "a.pop()\n",
    "print(a)"
   ]
  },
  {
   "cell_type": "code",
   "execution_count": 17,
   "id": "c6dd8fa7",
   "metadata": {},
   "outputs": [
    {
     "data": {
      "text/plain": [
       "{'12pinguinos@12pinguinos.com'}"
      ]
     },
     "execution_count": 17,
     "metadata": {},
     "output_type": "execute_result"
    }
   ],
   "source": [
    "all_emails"
   ]
  },
  {
   "cell_type": "code",
   "execution_count": null,
   "id": "6bb2d8bd",
   "metadata": {},
   "outputs": [],
   "source": [
    "while (len(all_urls)>0) or (i < max_depth):\n",
    "    i += 1\n",
    "    "
   ]
  }
 ],
 "metadata": {
  "kernelspec": {
   "display_name": "Python 3 (ipykernel)",
   "language": "python",
   "name": "python3"
  },
  "language_info": {
   "codemirror_mode": {
    "name": "ipython",
    "version": 3
   },
   "file_extension": ".py",
   "mimetype": "text/x-python",
   "name": "python",
   "nbconvert_exporter": "python",
   "pygments_lexer": "ipython3",
   "version": "3.9.13"
  }
 },
 "nbformat": 4,
 "nbformat_minor": 5
}
